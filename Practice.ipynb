{
 "cells": [
  {
   "cell_type": "code",
   "execution_count": 18,
   "id": "16d75826",
   "metadata": {},
   "outputs": [
    {
     "ename": "ModuleNotFoundError",
     "evalue": "No module named 'intertools'",
     "output_type": "error",
     "traceback": [
      "\u001b[1;31m---------------------------------------------------------------------------\u001b[0m",
      "\u001b[1;31mModuleNotFoundError\u001b[0m                       Traceback (most recent call last)",
      "\u001b[1;32m~\\AppData\\Local\\Temp/ipykernel_16260/1975478266.py\u001b[0m in \u001b[0;36m<module>\u001b[1;34m\u001b[0m\n\u001b[0;32m      2\u001b[0m \u001b[1;32mfrom\u001b[0m \u001b[0mbs4\u001b[0m \u001b[1;32mimport\u001b[0m \u001b[0mBeautifulSoup\u001b[0m \u001b[1;32mas\u001b[0m \u001b[0msoup\u001b[0m\u001b[1;33m\u001b[0m\u001b[1;33m\u001b[0m\u001b[0m\n\u001b[0;32m      3\u001b[0m \u001b[1;32mfrom\u001b[0m \u001b[0mwebdriver_manager\u001b[0m\u001b[1;33m.\u001b[0m\u001b[0mchrome\u001b[0m \u001b[1;32mimport\u001b[0m \u001b[0mChromeDriverManager\u001b[0m\u001b[1;33m\u001b[0m\u001b[1;33m\u001b[0m\u001b[0m\n\u001b[1;32m----> 4\u001b[1;33m \u001b[1;32mimport\u001b[0m \u001b[0mintertools\u001b[0m\u001b[1;33m\u001b[0m\u001b[1;33m\u001b[0m\u001b[0m\n\u001b[0m",
      "\u001b[1;31mModuleNotFoundError\u001b[0m: No module named 'intertools'"
     ]
    }
   ],
   "source": [
    "from splinter import Browser\n",
    "from bs4 import BeautifulSoup as soup\n",
    "from webdriver_manager.chrome import ChromeDriverManager"
   ]
  },
  {
   "cell_type": "code",
   "execution_count": 2,
   "id": "7ce0820c",
   "metadata": {},
   "outputs": [
    {
     "name": "stderr",
     "output_type": "stream",
     "text": [
      "\n",
      "\n",
      "====== WebDriver manager ======\n",
      "Current google-chrome version is 99.0.4844\n",
      "Get LATEST chromedriver version for 99.0.4844 google-chrome\n",
      "Trying to download new driver from https://chromedriver.storage.googleapis.com/99.0.4844.51/chromedriver_win32.zip\n",
      "Driver has been saved in cache [C:\\Users\\Gustavo\\.wdm\\drivers\\chromedriver\\win32\\99.0.4844.51]\n"
     ]
    }
   ],
   "source": [
    "# Set up Splinter\n",
    "executable_path = {'executable_path': ChromeDriverManager().install()}\n",
    "browser = Browser('chrome', **executable_path, headless=False)"
   ]
  },
  {
   "cell_type": "code",
   "execution_count": 3,
   "id": "957d287e",
   "metadata": {},
   "outputs": [],
   "source": [
    "# Visit the Quotes to Scrape site\n",
    "url = 'http://quotes.toscrape.com/'\n",
    "browser.visit(url)\n",
    "# Parse the HTML\n",
    "html = browser.html\n",
    "html_soup = soup(html, 'html.parser')"
   ]
  },
  {
   "cell_type": "code",
   "execution_count": 4,
   "id": "1ae2f317",
   "metadata": {},
   "outputs": [
    {
     "data": {
      "text/plain": [
       "'Top Ten tags'"
      ]
     },
     "execution_count": 4,
     "metadata": {},
     "output_type": "execute_result"
    }
   ],
   "source": [
    "# Scrape the Title\n",
    "title = html_soup.find('h2').text\n",
    "title"
   ]
  },
  {
   "cell_type": "code",
   "execution_count": 5,
   "id": "6e9addfe",
   "metadata": {},
   "outputs": [
    {
     "name": "stdout",
     "output_type": "stream",
     "text": [
      "love\n",
      "inspirational\n",
      "life\n",
      "humor\n",
      "books\n",
      "reading\n",
      "friendship\n",
      "friends\n",
      "truth\n",
      "simile\n"
     ]
    }
   ],
   "source": [
    "# Scrape the Top Ten tags\n",
    "tag_box = html_soup.find('div', class_='tags-box')\n",
    "# tag_box \n",
    "tags = tag_box.find_all('a', class_='tag')\n",
    "\n",
    "for tag in tags:\n",
    "    word = tag.text\n",
    "    print(word) "
   ]
  },
  {
   "cell_type": "code",
   "execution_count": 38,
   "id": "4dd4fced",
   "metadata": {},
   "outputs": [
    {
     "name": "stdout",
     "output_type": "stream",
     "text": [
      "page: 1 ----------\n",
      "[]\n",
      "http://schema.org/CreativeWork\n",
      "page: 1 ----------\n",
      "[]\n",
      "http://schema.org/CreativeWork\n",
      "page: 1 ----------\n",
      "[]\n",
      "http://schema.org/CreativeWork\n",
      "page: 1 ----------\n",
      "[]\n",
      "http://schema.org/CreativeWork\n",
      "page: 1 ----------\n",
      "[]\n",
      "http://schema.org/CreativeWork\n",
      "page: 1 ----------\n",
      "[]\n",
      "http://schema.org/CreativeWork\n",
      "page: 1 ----------\n",
      "[]\n",
      "http://schema.org/CreativeWork\n",
      "page: 1 ----------\n",
      "[]\n",
      "http://schema.org/CreativeWork\n",
      "page: 1 ----------\n",
      "[]\n",
      "http://schema.org/CreativeWork\n",
      "page: 1 ----------\n",
      "[]\n",
      "http://schema.org/CreativeWork\n",
      "page: 2 ----------\n",
      "[]\n",
      "http://schema.org/CreativeWork\n",
      "page: 2 ----------\n",
      "[]\n",
      "http://schema.org/CreativeWork\n",
      "page: 2 ----------\n",
      "[]\n",
      "http://schema.org/CreativeWork\n",
      "page: 2 ----------\n",
      "[]\n",
      "http://schema.org/CreativeWork\n",
      "page: 2 ----------\n",
      "[]\n",
      "http://schema.org/CreativeWork\n",
      "page: 2 ----------\n",
      "[]\n",
      "http://schema.org/CreativeWork\n",
      "page: 2 ----------\n",
      "[]\n",
      "http://schema.org/CreativeWork\n",
      "page: 2 ----------\n",
      "[]\n",
      "http://schema.org/CreativeWork\n",
      "page: 2 ----------\n",
      "[]\n",
      "http://schema.org/CreativeWork\n",
      "page: 2 ----------\n",
      "[]\n",
      "http://schema.org/CreativeWork\n",
      "page: 3 ----------\n",
      "[]\n",
      "http://schema.org/CreativeWork\n",
      "page: 3 ----------\n",
      "[]\n",
      "http://schema.org/CreativeWork\n",
      "page: 3 ----------\n",
      "[]\n",
      "http://schema.org/CreativeWork\n",
      "page: 3 ----------\n",
      "[]\n",
      "http://schema.org/CreativeWork\n",
      "page: 3 ----------\n",
      "[]\n",
      "http://schema.org/CreativeWork\n",
      "page: 3 ----------\n",
      "[]\n",
      "http://schema.org/CreativeWork\n",
      "page: 3 ----------\n",
      "[]\n",
      "http://schema.org/CreativeWork\n",
      "page: 3 ----------\n",
      "[]\n",
      "http://schema.org/CreativeWork\n",
      "page: 3 ----------\n",
      "[]\n",
      "http://schema.org/CreativeWork\n",
      "page: 3 ----------\n",
      "[]\n",
      "http://schema.org/CreativeWork\n",
      "page: 4 ----------\n",
      "[]\n",
      "http://schema.org/CreativeWork\n",
      "page: 4 ----------\n",
      "[]\n",
      "http://schema.org/CreativeWork\n",
      "page: 4 ----------\n",
      "[]\n",
      "http://schema.org/CreativeWork\n",
      "page: 4 ----------\n",
      "[]\n",
      "http://schema.org/CreativeWork\n",
      "page: 4 ----------\n",
      "[]\n",
      "http://schema.org/CreativeWork\n",
      "page: 4 ----------\n",
      "[]\n",
      "http://schema.org/CreativeWork\n",
      "page: 4 ----------\n",
      "[]\n",
      "http://schema.org/CreativeWork\n",
      "page: 4 ----------\n",
      "[]\n",
      "http://schema.org/CreativeWork\n",
      "page: 4 ----------\n",
      "[]\n",
      "http://schema.org/CreativeWork\n",
      "page: 4 ----------\n",
      "[]\n",
      "http://schema.org/CreativeWork\n",
      "page: 5 ----------\n",
      "[]\n",
      "http://schema.org/CreativeWork\n",
      "page: 5 ----------\n",
      "[]\n",
      "http://schema.org/CreativeWork\n",
      "page: 5 ----------\n",
      "[]\n",
      "http://schema.org/CreativeWork\n",
      "page: 5 ----------\n",
      "[]\n",
      "http://schema.org/CreativeWork\n",
      "page: 5 ----------\n",
      "[]\n",
      "http://schema.org/CreativeWork\n",
      "page: 5 ----------\n",
      "[]\n",
      "http://schema.org/CreativeWork\n",
      "page: 5 ----------\n",
      "[]\n",
      "http://schema.org/CreativeWork\n",
      "page: 5 ----------\n",
      "[]\n",
      "http://schema.org/CreativeWork\n",
      "page: 5 ----------\n",
      "[]\n",
      "http://schema.org/CreativeWork\n",
      "page: 5 ----------\n",
      "[]\n",
      "http://schema.org/CreativeWork\n"
     ]
    }
   ],
   "source": [
    "# New for loop to obtain all text from each page from 1-6\n",
    "url = 'http://quotes.toscrape.com/'\n",
    "browser.visit(url)\n",
    "for x in range(1, 6):\n",
    "    html = browser.html\n",
    "    quote_soup = soup(html, 'html.parser')\n",
    "    url = quote_soup.find_all('div', class_='quote')\n",
    "    for link in url:\n",
    "        print('page:', x, '----------')\n",
    "        print(link('itemprop'))\n",
    "        print(link.get('itemtype'))\n",
    "    browser.links.find_by_partial_text('Next').click()"
   ]
  },
  {
   "cell_type": "code",
   "execution_count": null,
   "id": "2b5a90d9",
   "metadata": {},
   "outputs": [],
   "source": []
  }
 ],
 "metadata": {
  "kernelspec": {
   "display_name": "Python 3 (ipykernel)",
   "language": "python",
   "name": "python3"
  },
  "language_info": {
   "codemirror_mode": {
    "name": "ipython",
    "version": 3
   },
   "file_extension": ".py",
   "mimetype": "text/x-python",
   "name": "python",
   "nbconvert_exporter": "python",
   "pygments_lexer": "ipython3",
   "version": "3.7.11"
  }
 },
 "nbformat": 4,
 "nbformat_minor": 5
}
